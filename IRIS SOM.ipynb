{
 "cells": [
  {
   "cell_type": "markdown",
   "id": "b9244fae",
   "metadata": {},
   "source": [
    "## import required librabries"
   ]
  },
  {
   "cell_type": "code",
   "execution_count": null,
   "id": "64a5aeeb",
   "metadata": {},
   "outputs": [],
   "source": [
    "import pandas as pd\n",
    "import numpy as np\n",
    "import matplotlib.pyplot as plt"
   ]
  },
  {
   "cell_type": "markdown",
   "id": "bb029c87",
   "metadata": {},
   "source": [
    "## import file"
   ]
  },
  {
   "cell_type": "code",
   "execution_count": null,
   "id": "0b07392c",
   "metadata": {},
   "outputs": [],
   "source": [
    "iris = pd.read_csv(\"Iris.csv\")"
   ]
  },
  {
   "cell_type": "code",
   "execution_count": 6,
   "id": "ea4ef64e",
   "metadata": {},
   "outputs": [
    {
     "data": {
      "text/html": [
       "<div>\n",
       "<style scoped>\n",
       "    .dataframe tbody tr th:only-of-type {\n",
       "        vertical-align: middle;\n",
       "    }\n",
       "\n",
       "    .dataframe tbody tr th {\n",
       "        vertical-align: top;\n",
       "    }\n",
       "\n",
       "    .dataframe thead th {\n",
       "        text-align: right;\n",
       "    }\n",
       "</style>\n",
       "<table border=\"1\" class=\"dataframe\">\n",
       "  <thead>\n",
       "    <tr style=\"text-align: right;\">\n",
       "      <th></th>\n",
       "      <th>Id</th>\n",
       "      <th>SepalLengthCm</th>\n",
       "      <th>SepalWidthCm</th>\n",
       "      <th>PetalLengthCm</th>\n",
       "      <th>PetalWidthCm</th>\n",
       "      <th>Species</th>\n",
       "    </tr>\n",
       "  </thead>\n",
       "  <tbody>\n",
       "    <tr>\n",
       "      <th>0</th>\n",
       "      <td>1</td>\n",
       "      <td>5.1</td>\n",
       "      <td>3.5</td>\n",
       "      <td>1.4</td>\n",
       "      <td>0.2</td>\n",
       "      <td>Iris-setosa</td>\n",
       "    </tr>\n",
       "    <tr>\n",
       "      <th>1</th>\n",
       "      <td>2</td>\n",
       "      <td>4.9</td>\n",
       "      <td>3.0</td>\n",
       "      <td>1.4</td>\n",
       "      <td>0.2</td>\n",
       "      <td>Iris-setosa</td>\n",
       "    </tr>\n",
       "    <tr>\n",
       "      <th>2</th>\n",
       "      <td>3</td>\n",
       "      <td>4.7</td>\n",
       "      <td>3.2</td>\n",
       "      <td>1.3</td>\n",
       "      <td>0.2</td>\n",
       "      <td>Iris-setosa</td>\n",
       "    </tr>\n",
       "    <tr>\n",
       "      <th>3</th>\n",
       "      <td>4</td>\n",
       "      <td>4.6</td>\n",
       "      <td>3.1</td>\n",
       "      <td>1.5</td>\n",
       "      <td>0.2</td>\n",
       "      <td>Iris-setosa</td>\n",
       "    </tr>\n",
       "    <tr>\n",
       "      <th>4</th>\n",
       "      <td>5</td>\n",
       "      <td>5.0</td>\n",
       "      <td>3.6</td>\n",
       "      <td>1.4</td>\n",
       "      <td>0.2</td>\n",
       "      <td>Iris-setosa</td>\n",
       "    </tr>\n",
       "  </tbody>\n",
       "</table>\n",
       "</div>"
      ],
      "text/plain": [
       "   Id  SepalLengthCm  SepalWidthCm  PetalLengthCm  PetalWidthCm      Species\n",
       "0   1            5.1           3.5            1.4           0.2  Iris-setosa\n",
       "1   2            4.9           3.0            1.4           0.2  Iris-setosa\n",
       "2   3            4.7           3.2            1.3           0.2  Iris-setosa\n",
       "3   4            4.6           3.1            1.5           0.2  Iris-setosa\n",
       "4   5            5.0           3.6            1.4           0.2  Iris-setosa"
      ]
     },
     "execution_count": 6,
     "metadata": {},
     "output_type": "execute_result"
    }
   ],
   "source": [
    "iris.head()"
   ]
  },
  {
   "cell_type": "markdown",
   "id": "a7491b0a",
   "metadata": {},
   "source": [
    "## create dataset which removed with class(species) labele"
   ]
  },
  {
   "cell_type": "code",
   "execution_count": 11,
   "id": "e7dd751c",
   "metadata": {},
   "outputs": [],
   "source": [
    "dataset = iris.drop(['Species'], axis =1)"
   ]
  },
  {
   "cell_type": "code",
   "execution_count": 12,
   "id": "66a77659",
   "metadata": {},
   "outputs": [
    {
     "data": {
      "text/html": [
       "<div>\n",
       "<style scoped>\n",
       "    .dataframe tbody tr th:only-of-type {\n",
       "        vertical-align: middle;\n",
       "    }\n",
       "\n",
       "    .dataframe tbody tr th {\n",
       "        vertical-align: top;\n",
       "    }\n",
       "\n",
       "    .dataframe thead th {\n",
       "        text-align: right;\n",
       "    }\n",
       "</style>\n",
       "<table border=\"1\" class=\"dataframe\">\n",
       "  <thead>\n",
       "    <tr style=\"text-align: right;\">\n",
       "      <th></th>\n",
       "      <th>Id</th>\n",
       "      <th>SepalLengthCm</th>\n",
       "      <th>SepalWidthCm</th>\n",
       "      <th>PetalLengthCm</th>\n",
       "      <th>PetalWidthCm</th>\n",
       "    </tr>\n",
       "  </thead>\n",
       "  <tbody>\n",
       "    <tr>\n",
       "      <th>0</th>\n",
       "      <td>1</td>\n",
       "      <td>5.1</td>\n",
       "      <td>3.5</td>\n",
       "      <td>1.4</td>\n",
       "      <td>0.2</td>\n",
       "    </tr>\n",
       "    <tr>\n",
       "      <th>1</th>\n",
       "      <td>2</td>\n",
       "      <td>4.9</td>\n",
       "      <td>3.0</td>\n",
       "      <td>1.4</td>\n",
       "      <td>0.2</td>\n",
       "    </tr>\n",
       "    <tr>\n",
       "      <th>2</th>\n",
       "      <td>3</td>\n",
       "      <td>4.7</td>\n",
       "      <td>3.2</td>\n",
       "      <td>1.3</td>\n",
       "      <td>0.2</td>\n",
       "    </tr>\n",
       "    <tr>\n",
       "      <th>3</th>\n",
       "      <td>4</td>\n",
       "      <td>4.6</td>\n",
       "      <td>3.1</td>\n",
       "      <td>1.5</td>\n",
       "      <td>0.2</td>\n",
       "    </tr>\n",
       "    <tr>\n",
       "      <th>4</th>\n",
       "      <td>5</td>\n",
       "      <td>5.0</td>\n",
       "      <td>3.6</td>\n",
       "      <td>1.4</td>\n",
       "      <td>0.2</td>\n",
       "    </tr>\n",
       "  </tbody>\n",
       "</table>\n",
       "</div>"
      ],
      "text/plain": [
       "   Id  SepalLengthCm  SepalWidthCm  PetalLengthCm  PetalWidthCm\n",
       "0   1            5.1           3.5            1.4           0.2\n",
       "1   2            4.9           3.0            1.4           0.2\n",
       "2   3            4.7           3.2            1.3           0.2\n",
       "3   4            4.6           3.1            1.5           0.2\n",
       "4   5            5.0           3.6            1.4           0.2"
      ]
     },
     "execution_count": 12,
     "metadata": {},
     "output_type": "execute_result"
    }
   ],
   "source": [
    "dataset.head()"
   ]
  },
  {
   "cell_type": "markdown",
   "id": "0bcab9a7",
   "metadata": {},
   "source": [
    "##  transorm the data into standardscaler form"
   ]
  },
  {
   "cell_type": "code",
   "execution_count": 14,
   "id": "f2f72ac4",
   "metadata": {},
   "outputs": [],
   "source": [
    "from sklearn.preprocessing import StandardScaler\n",
    "standard = StandardScaler()\n",
    "cleaneddata = pd.DataFrame(standard.fit_transform(dataset))"
   ]
  },
  {
   "cell_type": "code",
   "execution_count": 16,
   "id": "2a5fa3a4",
   "metadata": {},
   "outputs": [
    {
     "data": {
      "text/html": [
       "<div>\n",
       "<style scoped>\n",
       "    .dataframe tbody tr th:only-of-type {\n",
       "        vertical-align: middle;\n",
       "    }\n",
       "\n",
       "    .dataframe tbody tr th {\n",
       "        vertical-align: top;\n",
       "    }\n",
       "\n",
       "    .dataframe thead th {\n",
       "        text-align: right;\n",
       "    }\n",
       "</style>\n",
       "<table border=\"1\" class=\"dataframe\">\n",
       "  <thead>\n",
       "    <tr style=\"text-align: right;\">\n",
       "      <th></th>\n",
       "      <th>0</th>\n",
       "      <th>1</th>\n",
       "      <th>2</th>\n",
       "      <th>3</th>\n",
       "      <th>4</th>\n",
       "    </tr>\n",
       "  </thead>\n",
       "  <tbody>\n",
       "    <tr>\n",
       "      <th>0</th>\n",
       "      <td>-1.720542</td>\n",
       "      <td>-0.900681</td>\n",
       "      <td>1.032057</td>\n",
       "      <td>-1.341272</td>\n",
       "      <td>-1.312977</td>\n",
       "    </tr>\n",
       "    <tr>\n",
       "      <th>1</th>\n",
       "      <td>-1.697448</td>\n",
       "      <td>-1.143017</td>\n",
       "      <td>-0.124958</td>\n",
       "      <td>-1.341272</td>\n",
       "      <td>-1.312977</td>\n",
       "    </tr>\n",
       "    <tr>\n",
       "      <th>2</th>\n",
       "      <td>-1.674353</td>\n",
       "      <td>-1.385353</td>\n",
       "      <td>0.337848</td>\n",
       "      <td>-1.398138</td>\n",
       "      <td>-1.312977</td>\n",
       "    </tr>\n",
       "    <tr>\n",
       "      <th>3</th>\n",
       "      <td>-1.651258</td>\n",
       "      <td>-1.506521</td>\n",
       "      <td>0.106445</td>\n",
       "      <td>-1.284407</td>\n",
       "      <td>-1.312977</td>\n",
       "    </tr>\n",
       "    <tr>\n",
       "      <th>4</th>\n",
       "      <td>-1.628164</td>\n",
       "      <td>-1.021849</td>\n",
       "      <td>1.263460</td>\n",
       "      <td>-1.341272</td>\n",
       "      <td>-1.312977</td>\n",
       "    </tr>\n",
       "  </tbody>\n",
       "</table>\n",
       "</div>"
      ],
      "text/plain": [
       "          0         1         2         3         4\n",
       "0 -1.720542 -0.900681  1.032057 -1.341272 -1.312977\n",
       "1 -1.697448 -1.143017 -0.124958 -1.341272 -1.312977\n",
       "2 -1.674353 -1.385353  0.337848 -1.398138 -1.312977\n",
       "3 -1.651258 -1.506521  0.106445 -1.284407 -1.312977\n",
       "4 -1.628164 -1.021849  1.263460 -1.341272 -1.312977"
      ]
     },
     "execution_count": 16,
     "metadata": {},
     "output_type": "execute_result"
    }
   ],
   "source": [
    "cleaneddata.head()"
   ]
  },
  {
   "cell_type": "code",
   "execution_count": 21,
   "id": "7c64a2c1",
   "metadata": {},
   "outputs": [
    {
     "data": {
      "text/plain": [
       "(150, 5)"
      ]
     },
     "execution_count": 21,
     "metadata": {},
     "output_type": "execute_result"
    }
   ],
   "source": [
    "cleaneddata.shape"
   ]
  },
  {
   "cell_type": "markdown",
   "id": "68e344ed",
   "metadata": {},
   "source": [
    "## import minisom library "
   ]
  },
  {
   "cell_type": "code",
   "execution_count": 18,
   "id": "bbf8a44d",
   "metadata": {},
   "outputs": [
    {
     "name": "stdout",
     "output_type": "stream",
     "text": [
      "Requirement already satisfied: minisom in c:\\users\\chandu dhage\\anaconda3\\lib\\site-packages (2.3.0)\n",
      "\n",
      "[notice] A new release of pip available: 22.1.2 -> 22.2.1\n",
      "[notice] To update, run: python.exe -m pip install --upgrade pip\n"
     ]
    }
   ],
   "source": [
    "!pip install minisom"
   ]
  },
  {
   "cell_type": "code",
   "execution_count": 20,
   "id": "c9ea3afb",
   "metadata": {},
   "outputs": [],
   "source": [
    "from minisom import MiniSom"
   ]
  },
  {
   "cell_type": "code",
   "execution_count": 25,
   "id": "c96e0c9d",
   "metadata": {},
   "outputs": [],
   "source": [
    "som = MiniSom(7,7,5,sigma =0.25)\n",
    "\n",
    "som.train_random(cleaneddata.to_numpy(), 30000)"
   ]
  },
  {
   "cell_type": "markdown",
   "id": "a1cd4798",
   "metadata": {},
   "source": [
    "## convert  Specied to numerical category"
   ]
  },
  {
   "cell_type": "code",
   "execution_count": 35,
   "id": "bb237a63",
   "metadata": {},
   "outputs": [],
   "source": [
    "target1 = iris.Species.astype('category')"
   ]
  },
  {
   "cell_type": "code",
   "execution_count": 37,
   "id": "e01c858e",
   "metadata": {},
   "outputs": [],
   "source": [
    "target = target1.cat.codes"
   ]
  },
  {
   "cell_type": "code",
   "execution_count": 39,
   "id": "35d14187",
   "metadata": {},
   "outputs": [
    {
     "data": {
      "text/plain": [
       "0      0\n",
       "1      0\n",
       "2      0\n",
       "3      0\n",
       "4      0\n",
       "      ..\n",
       "145    2\n",
       "146    2\n",
       "147    2\n",
       "148    2\n",
       "149    2\n",
       "Length: 150, dtype: int8"
      ]
     },
     "execution_count": 39,
     "metadata": {},
     "output_type": "execute_result"
    }
   ],
   "source": [
    "target"
   ]
  },
  {
   "cell_type": "code",
   "execution_count": 47,
   "id": "890f1fb3",
   "metadata": {},
   "outputs": [],
   "source": [
    "label_map = som.labels_map(cleaneddata.to_numpy(), target)"
   ]
  },
  {
   "cell_type": "code",
   "execution_count": 48,
   "id": "3492133b",
   "metadata": {},
   "outputs": [
    {
     "data": {
      "text/plain": [
       "defaultdict(list,\n",
       "            {(3, 0): Counter({0: 22}),\n",
       "             (1, 4): Counter({0: 27}),\n",
       "             (4, 2): Counter({0: 1}),\n",
       "             (5, 2): Counter({1: 2}),\n",
       "             (5, 3): Counter({1: 4}),\n",
       "             (1, 5): Counter({1: 2}),\n",
       "             (1, 0): Counter({1: 3}),\n",
       "             (0, 1): Counter({1: 3}),\n",
       "             (0, 0): Counter({1: 2}),\n",
       "             (4, 6): Counter({1: 9}),\n",
       "             (2, 3): Counter({1: 4}),\n",
       "             (4, 5): Counter({1: 6}),\n",
       "             (6, 3): Counter({1: 10}),\n",
       "             (2, 4): Counter({1: 3}),\n",
       "             (5, 4): Counter({1: 2}),\n",
       "             (3, 6): Counter({2: 7}),\n",
       "             (0, 4): Counter({2: 5}),\n",
       "             (5, 0): Counter({2: 4}),\n",
       "             (6, 6): Counter({2: 10}),\n",
       "             (2, 2): Counter({2: 5}),\n",
       "             (3, 5): Counter({2: 1}),\n",
       "             (4, 3): Counter({2: 6}),\n",
       "             (2, 5): Counter({2: 3}),\n",
       "             (4, 4): Counter({2: 1}),\n",
       "             (0, 6): Counter({2: 8})})"
      ]
     },
     "execution_count": 48,
     "metadata": {},
     "output_type": "execute_result"
    }
   ],
   "source": [
    "label_map"
   ]
  },
  {
   "cell_type": "code",
   "execution_count": 50,
   "id": "28b8b6ab",
   "metadata": {},
   "outputs": [],
   "source": [
    "label_name = np.unique(target)"
   ]
  },
  {
   "cell_type": "code",
   "execution_count": 51,
   "id": "abfada9c",
   "metadata": {},
   "outputs": [
    {
     "data": {
      "text/plain": [
       "array([0, 1, 2], dtype=int8)"
      ]
     },
     "execution_count": 51,
     "metadata": {},
     "output_type": "execute_result"
    }
   ],
   "source": [
    "label_name"
   ]
  },
  {
   "cell_type": "code",
   "execution_count": 55,
   "id": "58befd8a",
   "metadata": {},
   "outputs": [],
   "source": [
    "from matplotlib.gridspec import GridSpec"
   ]
  },
  {
   "cell_type": "markdown",
   "id": "5d361cee",
   "metadata": {},
   "source": [
    "## visual form"
   ]
  },
  {
   "cell_type": "code",
   "execution_count": 58,
   "id": "7bbebfb0",
   "metadata": {},
   "outputs": [
    {
     "data": {
      "image/png": "[encoded data removed]",
      "text/plain": [
       "<Figure size 504x504 with 25 Axes>"
      ]
     },
     "metadata": {},
     "output_type": "display_data"
    }
   ],
   "source": [
    "plt.figure(figsize =(7,7))\n",
    "the_grid = GridSpec(7,7)\n",
    "\n",
    "for position in label_map.keys():\n",
    "    label_fracs = [label_map[position][l] for l in label_name]\n",
    "    plt.subplot(the_grid[6-position[1],position[0]],aspect =1)\n",
    "    patches,texts = plt.pie(label_fracs)\n",
    "plt.legend(patches, label_name, bbox_to_anchor=(0,1.5), ncol=3)\n",
    "\n",
    "plt.show()"
   ]
  },
  {
   "cell_type": "code",
   "execution_count": 61,
   "id": "36ec7221",
   "metadata": {},
   "outputs": [
    {
     "data": {
      "image/png": "[encoded data removed]",
      "text/plain": [
       "<Figure size 504x504 with 2 Axes>"
      ]
     },
     "metadata": {
      "needs_background": "light"
     },
     "output_type": "display_data"
    }
   ],
   "source": [
    "plt.figure(figsize =(7,7))\n",
    "frequency = np.zeros((7,7))\n",
    "for position, values in som.win_map(cleaneddata.to_numpy()).items():\n",
    "    frequency[position[0], position[1]] = len(values)\n",
    "plt.pcolor(frequency,cmap= 'Blues')\n",
    "plt.colorbar()\n",
    "plt.show()"
   ]
  }
 ],
 "metadata": {
  "kernelspec": {
   "display_name": "Python 3 (ipykernel)",
   "language": "python",
   "name": "python3"
  },
  "language_info": {
   "codemirror_mode": {
    "name": "ipython",
    "version": 3
   },
   "file_extension": ".py",
   "mimetype": "text/x-python",
   "name": "python",
   "nbconvert_exporter": "python",
   "pygments_lexer": "ipython3",
   "version": "3.9.12"
  }
 },
 "nbformat": 4,
 "nbformat_minor": 5
}
